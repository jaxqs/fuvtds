{
 "cells": [
  {
   "cell_type": "code",
   "execution_count": 1,
   "metadata": {},
   "outputs": [],
   "source": [
    "from fuvtds_base_class import FUVTDSBase\n",
    "import numpy as np"
   ]
  },
  {
   "cell_type": "code",
   "execution_count": 2,
   "metadata": {},
   "outputs": [
    {
     "data": {
      "application/vnd.jupyter.widget-view+json": {
       "model_id": "ef43d414da344848b5561047442be0de",
       "version_major": 2,
       "version_minor": 0
      },
      "text/plain": [
       "  0%|          | 0/1766 [00:00<?, ?it/s]"
      ]
     },
     "metadata": {},
     "output_type": "display_data"
    },
    {
     "name": "stdout",
     "output_type": "stream",
     "text": [
      "+++ Scaling LP4 to LP3 using data from datasets: /grp/hst/cos2/cosmo/14854/ldcv20eyq_x1d.fits.gz /grp/hst/cos2/cosmo/14854/ldcv22wxq_x1d.fits.gz\n",
      "+++ Scaling LP3 to LP4 using data from datasets: /grp/hst/cos2/cosmo/14854/ldcv22wxq_x1d.fits.gz /grp/hst/cos2/cosmo/14854/ldcv20eyq_x1d.fits.gz\n",
      "+++ Scaling LP3 to LP2 using data from datasets: /grp/hst/cos2/cosmo/13967/lcqz03osq_x1d.fits.gz /grp/hst/cos2/cosmo/13967/lcqz04iiq_x1d.fits.gz\n",
      "+++ Scaling LP2 to LP1 using data from datasets: /grp/hst/cos2/cosmo/12806/lbxmt1nxq_x1d.fits.gz /grp/hst/cos2/cosmo/12806/lbxm1bvsq_x1d.fits.gz\n",
      "+++ Scaling LP4 to LP3 using data from datasets: /grp/hst/cos2/cosmo/14854/ldcv20elq_x1d.fits.gz /grp/hst/cos2/cosmo/14854/ldcv22wpq_x1d.fits.gz\n",
      "+++ Scaling LP3 to LP2 using data from datasets: /grp/hst/cos2/cosmo/13967/lcqz03ogq_x1d.fits.gz /grp/hst/cos2/cosmo/13967/lcqz04h8q_x1d.fits.gz\n",
      "+++ Scaling LP6 to LP4 using data from datasets: /grp/hst/cos2/cosmo/16830/ler15akzq_x1d.fits.gz /grp/hst/cos2/cosmo/16830/ler15am1q_x1d.fits.gz\n",
      "+++ Scaling LP4 to LP3 using data from datasets: /grp/hst/cos2/cosmo/14854/ldcv20euq_x1d.fits.gz /grp/hst/cos2/cosmo/14854/ldcv22wtq_x1d.fits.gz\n",
      "+++ Scaling LP3 to LP2 using data from datasets: /grp/hst/cos2/cosmo/13967/lcqz03ooq_x1d.fits.gz /grp/hst/cos2/cosmo/13967/lcqz04hrq_x1d.fits.gz\n",
      "+++ Scaling LP5 to LP4 using data from datasets: /grp/hst/cos2/cosmo/16324/lefe05o0q_x1d.fits.gz /grp/hst/cos2/cosmo/16324/lefe05o2q_x1d.fits.gz\n",
      "+++ Scaling LP4 to LP3 using data from datasets: /grp/hst/cos2/cosmo/14854/ldcv20enq_x1d.fits.gz /grp/hst/cos2/cosmo/14854/ldcv22wrq_x1d.fits.gz\n",
      "+++ Scaling LP2 to LP1 using data from datasets: /grp/hst/cos2/cosmo/12806/lbxmt2w3q_x1d.fits.gz /grp/hst/cos2/cosmo/12806/lbxmt4loq_x1d.fits.gz\n",
      "+++ Scaling LP3 to LP2 using data from datasets: /grp/hst/cos2/cosmo/13967/lcqz03oiq_x1d.fits.gz /grp/hst/cos2/cosmo/13967/lcqz04haq_x1d.fits.gz\n",
      "+++ Scaling LP6 to LP4 using data from datasets: /grp/hst/cos2/cosmo/16830/ler15al4q_x1d.fits.gz /grp/hst/cos2/cosmo/16830/ler15amdq_x1d.fits.gz\n",
      "+++ Scaling LP3 to LP2 using data from datasets: /grp/hst/cos2/cosmo/13967/lcqz03okq_x1d.fits.gz /grp/hst/cos2/cosmo/13967/lcqz04hcq_x1d.fits.gz\n",
      "+++ Scaling LP2 to LP1 using data from datasets: /grp/hst/cos2/cosmo/12806/lbxmt1o3q_x1d.fits.gz /grp/hst/cos2/cosmo/12806/lbxm1aqfq_x1d.fits.gz\n",
      "+++ Scaling LP2 to LP1 using data from datasets: /grp/hst/cos2/cosmo/12806/lbxmt1o5q_x1d.fits.gz /grp/hst/cos2/cosmo/12806/lbxm1araq_x1d.fits.gz\n",
      "+++ Scaling LP4 to LP3 using data from datasets: /grp/hst/cos2/cosmo/14854/ldcv20ewq_x1d.fits.gz /grp/hst/cos2/cosmo/14854/ldcv22wvq_x1d.fits.gz\n",
      "+++ Scaling LP6 to LP4 using data from datasets: /grp/hst/cos2/cosmo/16830/ler15aknq_x1d.fits.gz /grp/hst/cos2/cosmo/16830/ler15al8q_x1d.fits.gz\n",
      "+++ Scaling LP3 to LP2 using data from datasets: /grp/hst/cos2/cosmo/13967/lcqz03oqq_x1d.fits.gz /grp/hst/cos2/cosmo/13967/lcqz04idq_x1d.fits.gz\n",
      "+++ Scaling LP2 to LP1 using data from datasets: /grp/hst/cos2/cosmo/12806/lbxmt2w7q_x1d.fits.gz /grp/hst/cos2/cosmo/12806/lbxmt4mmq_x1d.fits.gz\n",
      "+++ Scaling LP4 to LP3 using data from datasets: /grp/hst/cos2/cosmo/14854/ldcv20elq_x1d.fits.gz /grp/hst/cos2/cosmo/14854/ldcv22wpq_x1d.fits.gz\n",
      "+++ Scaling LP3 to LP2 using data from datasets: /grp/hst/cos2/cosmo/13967/lcqz03ogq_x1d.fits.gz /grp/hst/cos2/cosmo/13967/lcqz04h8q_x1d.fits.gz\n",
      "+++ Scaling LP4 to LP3 using data from datasets: /grp/hst/cos2/cosmo/14854/ldcv20eyq_x1d.fits.gz /grp/hst/cos2/cosmo/14854/ldcv22wxq_x1d.fits.gz\n",
      "+++ Scaling LP3 to LP4 using data from datasets: /grp/hst/cos2/cosmo/14854/ldcv22wxq_x1d.fits.gz /grp/hst/cos2/cosmo/14854/ldcv20eyq_x1d.fits.gz\n",
      "+++ Scaling LP3 to LP2 using data from datasets: /grp/hst/cos2/cosmo/13967/lcqz03osq_x1d.fits.gz /grp/hst/cos2/cosmo/13967/lcqz04iiq_x1d.fits.gz\n",
      "+++ Scaling LP3 to LP4 using data from datasets: /grp/hst/cos2/cosmo/16324/lefe07lzq_x1d.fits.gz /grp/hst/cos2/cosmo/16324/lefe07lxq_x1d.fits.gz\n",
      "+++ Scaling LP2 to LP1 using data from datasets: /grp/hst/cos2/cosmo/12806/lbxmt1nxq_x1d.fits.gz /grp/hst/cos2/cosmo/12806/lbxm1bvsq_x1d.fits.gz\n",
      "+++ Scaling LP6 to LP4 using data from datasets: /grp/hst/cos2/cosmo/16830/ler156gyq_x1d.fits.gz /grp/hst/cos2/cosmo/16830/ler156gmq_x1d.fits.gz\n",
      "+++ Scaling LP4 to LP3 using data from datasets: /grp/hst/cos2/cosmo/14854/ldcv21f8q_x1d.fits.gz /grp/hst/cos2/cosmo/14854/ldcv23mtq_x1d.fits.gz\n",
      "+++ Scaling LP3 to LP2 using data from datasets: /grp/hst/cos2/cosmo/13967/lcqz23p2q_x1d.fits.gz /grp/hst/cos2/cosmo/13967/lcqz24isq_x1d.fits.gz\n",
      "+++ Scaling LP5 to LP4 using data from datasets: /grp/hst/cos2/cosmo/16324/lefe05piq_x1d.fits.gz /grp/hst/cos2/cosmo/16324/lefe05pkq_x1d.fits.gz\n",
      "+++ Scaling LP5 to LP4 using data from datasets: /grp/hst/cos2/cosmo/16324/lefe05o0q_x1d.fits.gz /grp/hst/cos2/cosmo/16324/lefe05o2q_x1d.fits.gz\n",
      "+++ Scaling LP2 to LP1 using data from datasets: /grp/hst/cos2/cosmo/12806/lbxmt2w3q_x1d.fits.gz /grp/hst/cos2/cosmo/12806/lbxm03fmq_x1d.fits.gz\n",
      "+++ Scaling LP4 to LP3 using data from datasets: /grp/hst/cos2/cosmo/14854/ldcv20epq_x1d.fits.gz /grp/hst/cos2/cosmo/14854/ldcv22x1q_x1d.fits.gz\n",
      "+++ Scaling LP4 to LP3 using data from datasets: /grp/hst/cos2/cosmo/14854/ldcv20enq_x1d.fits.gz /grp/hst/cos2/cosmo/14854/ldcv22wrq_x1d.fits.gz\n",
      "+++ Scaling LP3 to LP2 using data from datasets: /grp/hst/cos2/cosmo/13967/lcqz03okq_x1d.fits.gz /grp/hst/cos2/cosmo/13967/lcqz04hcq_x1d.fits.gz\n",
      "+++ Scaling LP3 to LP2 using data from datasets: /grp/hst/cos2/cosmo/13967/lcqz03oiq_x1d.fits.gz /grp/hst/cos2/cosmo/13967/lcqz04haq_x1d.fits.gz\n",
      "+++ Scaling LP2 to LP1 using data from datasets: /grp/hst/cos2/cosmo/12806/lbxmt1o5q_x1d.fits.gz /grp/hst/cos2/cosmo/12806/lbxm1araq_x1d.fits.gz\n",
      "+++ Scaling LP6 to LP4 using data from datasets: /grp/hst/cos2/cosmo/16830/ler156h2q_x1d.fits.gz /grp/hst/cos2/cosmo/16830/ler156guq_x1d.fits.gz\n",
      "+++ Scaling LP6 to LP4 using data from datasets: /grp/hst/cos2/cosmo/16830/ler156gwq_x1d.fits.gz /grp/hst/cos2/cosmo/16830/ler156giq_x1d.fits.gz\n",
      "+++ Scaling LP4 to LP3 using data from datasets: /grp/hst/cos2/cosmo/14854/ldcv20f0q_x1d.fits.gz /grp/hst/cos2/cosmo/14854/ldcv22wzq_x1d.fits.gz\n",
      "+++ Scaling LP2 to LP1 using data from datasets: /grp/hst/cos2/cosmo/12806/lbxmt1o3q_x1d.fits.gz /grp/hst/cos2/cosmo/12806/lbxm1aqfq_x1d.fits.gz\n",
      "+++ Scaling LP4 to LP3 using data from datasets: /grp/hst/cos2/cosmo/14854/ldcv21faq_x1d.fits.gz /grp/hst/cos2/cosmo/14854/ldcv23mvq_x1d.fits.gz\n",
      "+++ Scaling LP3 to LP4 using data from datasets: /grp/hst/cos2/cosmo/14854/ldcv22wzq_x1d.fits.gz /grp/hst/cos2/cosmo/14854/ldcv20f0q_x1d.fits.gz\n",
      "+++ Scaling LP3 to LP2 using data from datasets: /grp/hst/cos2/cosmo/13967/lcqz23p4q_x1d.fits.gz /grp/hst/cos2/cosmo/13967/lcqz24iuq_x1d.fits.gz\n",
      "+++ Scaling LP3 to LP2 using data from datasets: /grp/hst/cos2/cosmo/13967/lcqz03ouq_x1d.fits.gz /grp/hst/cos2/cosmo/13967/lcqz04ikq_x1d.fits.gz\n",
      "+++ Scaling LP2 to LP1 using data from datasets: /grp/hst/cos2/cosmo/12806/lbxmt2w7q_x1d.fits.gz /grp/hst/cos2/cosmo/12806/lbxm03giq_x1d.fits.gz\n",
      "+++ Scaling LP2 to LP1 using data from datasets: /grp/hst/cos2/cosmo/12806/lbxmt1oeq_x1d.fits.gz /grp/hst/cos2/cosmo/12806/lbxm1bw0q_x1d.fits.gz\n"
     ]
    }
   ],
   "source": [
    "x = FUVTDSBase(PIDs='fuvtds_analysis_list.dat')"
   ]
  },
  {
   "cell_type": "code",
   "execution_count": 3,
   "metadata": {},
   "outputs": [],
   "source": [
    "table = x.tables"
   ]
  },
  {
   "cell_type": "code",
   "execution_count": 4,
   "metadata": {},
   "outputs": [],
   "source": [
    "scaled_table = x.scale_to_1(1222, 'FUVB', table)"
   ]
  },
  {
   "cell_type": "code",
   "execution_count": 5,
   "metadata": {},
   "outputs": [
    {
     "data": {
      "text/plain": [
       "array([1.01517164, 1.01934578, 1.01344964, 1.02301793, 1.01894757,\n",
       "       1.0175872 , 1.017772  , 1.01691364, 1.02228409, 1.01979067,\n",
       "       1.01806168, 1.03276828, 1.03193953, 1.0373034 , 1.03134218,\n",
       "       1.03325228, 1.02801544, 1.03743928, 1.02911587, 1.04242333,\n",
       "       1.03434552, 1.03266768, 1.02561419, 1.02561419, 1.02309789,\n",
       "       1.01359745, 1.0123774 , 1.00814336, 1.01093135, 1.01304547,\n",
       "       1.00408108, 1.005092  , 0.99964004, 1.01621283, 1.00409792,\n",
       "       1.00791803, 1.0063318 , 1.00432339, 1.00299678, 0.99615889,\n",
       "       0.99615889, 0.99516091, 0.99238678, 0.99107487, 0.97791   ,\n",
       "       0.98805623, 0.9854469 , 0.98158627, 0.97865242, 0.97013132,\n",
       "       0.96992938, 0.96723139, 0.96881191, 0.9635009 , 0.96471937,\n",
       "       0.95990763, 0.95845427, 0.95825438, 0.96023072, 0.95724818,\n",
       "       0.95487291, 0.95205295, 0.94846512, 0.94851319, 0.94653378,\n",
       "       0.94820341, 0.94741259, 0.94286882, 0.94687581, 0.94883472,\n",
       "       0.94289611, 0.94635192, 0.93739505, 0.93317481, 0.93121214,\n",
       "       0.93015418, 0.92758943, 0.92468206])"
      ]
     },
     "execution_count": 5,
     "metadata": {},
     "output_type": "execute_result"
    }
   ],
   "source": [
    "scaled_table['large_scaled_net'][:,0]"
   ]
  },
  {
   "cell_type": "code",
   "execution_count": 6,
   "metadata": {},
   "outputs": [
    {
     "data": {
      "text/plain": [
       "array([0.00518098, 0.00524139, 0.00522077, 0.00524722, 0.00524463,\n",
       "       0.0052258 , 0.00522679, 0.00522367, 0.00525783, 0.00524384,\n",
       "       0.00525807, 0.00528028, 0.0052585 , 0.00531154, 0.00527239,\n",
       "       0.00527795, 0.00526549, 0.00531184, 0.00528221, 0.00534134,\n",
       "       0.00529808, 0.00530061, 0.00526767, 0.0091422 , 0.00913078,\n",
       "       0.00904141, 0.00903594, 0.00899954, 0.00902422, 0.00904228,\n",
       "       0.00896879, 0.00898826, 0.00894348, 0.00908078, 0.00897312,\n",
       "       0.00900899, 0.00899359, 0.00896856, 0.00898282, 0.00892582,\n",
       "       0.01147945, 0.01145271, 0.01142412, 0.01141026, 0.01129031,\n",
       "       0.01138085, 0.01134747, 0.01131752, 0.01128222, 0.01121629,\n",
       "       0.01121648, 0.01118303, 0.01120315, 0.01115624, 0.01116323,\n",
       "       0.01111266, 0.01109388, 0.01109885, 0.01111017, 0.01107961,\n",
       "       0.01107384, 0.0110354 , 0.01099577, 0.01099863, 0.01097504,\n",
       "       0.01099829, 0.01098218, 0.01094085, 0.01095984, 0.0109794 ,\n",
       "       0.01091635, 0.01095495, 0.01085115, 0.01080224, 0.01078571,\n",
       "       0.01077368, 0.01074728, 0.0107128 ])"
      ]
     },
     "execution_count": 6,
     "metadata": {},
     "output_type": "execute_result"
    }
   ],
   "source": [
    "scaled_table['large_scaled_stdev'][:,0]"
   ]
  },
  {
   "cell_type": "code",
   "execution_count": 7,
   "metadata": {},
   "outputs": [],
   "source": [
    "net = np.array([[0.2, 0.3], [0.4, 0.5], [0.6, 0.7]])"
   ]
  },
  {
   "cell_type": "code",
   "execution_count": 8,
   "metadata": {},
   "outputs": [
    {
     "data": {
      "text/plain": [
       "array([0.4, 0.5])"
      ]
     },
     "execution_count": 8,
     "metadata": {},
     "output_type": "execute_result"
    }
   ],
   "source": [
    "net[1]"
   ]
  },
  {
   "cell_type": "code",
   "execution_count": 9,
   "metadata": {},
   "outputs": [
    {
     "data": {
      "text/plain": [
       "array([1.2, 1.5])"
      ]
     },
     "execution_count": 9,
     "metadata": {},
     "output_type": "execute_result"
    }
   ],
   "source": [
    "sum(net)"
   ]
  }
 ],
 "metadata": {
  "kernelspec": {
   "display_name": "hst",
   "language": "python",
   "name": "python3"
  },
  "language_info": {
   "codemirror_mode": {
    "name": "ipython",
    "version": 3
   },
   "file_extension": ".py",
   "mimetype": "text/x-python",
   "name": "python",
   "nbconvert_exporter": "python",
   "pygments_lexer": "ipython3",
   "version": "3.12.4"
  }
 },
 "nbformat": 4,
 "nbformat_minor": 2
}
