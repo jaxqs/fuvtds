{
 "cells": [
  {
   "cell_type": "code",
   "execution_count": 1,
   "metadata": {},
   "outputs": [],
   "source": [
    "from fuvtds_base_class import FUVTDSBase\n",
    "from fuvtds_base_class import FUVTDSMonitor"
   ]
  },
  {
   "cell_type": "code",
   "execution_count": 2,
   "metadata": {},
   "outputs": [
    {
     "data": {
      "application/vnd.jupyter.widget-view+json": {
       "model_id": "f421870fdcf44e579cce036dd9214328",
       "version_major": 2,
       "version_minor": 0
      },
      "text/plain": [
       "  0%|          | 0/1766 [00:00<?, ?it/s]"
      ]
     },
     "metadata": {},
     "output_type": "display_data"
    },
    {
     "name": "stdout",
     "output_type": "stream",
     "text": [
      "+++ Scaling LP4 to LP3 using data from datasets: /grp/hst/cos2/cosmo/14854/ldcv20eyq_x1d.fits.gz /grp/hst/cos2/cosmo/14854/ldcv22wxq_x1d.fits.gz\n",
      "+++ Scaling LP3 to LP4 using data from datasets: /grp/hst/cos2/cosmo/14854/ldcv22wxq_x1d.fits.gz /grp/hst/cos2/cosmo/14854/ldcv20eyq_x1d.fits.gz\n",
      "+++ Scaling LP3 to LP2 using data from datasets: /grp/hst/cos2/cosmo/13967/lcqz03osq_x1d.fits.gz /grp/hst/cos2/cosmo/13967/lcqz04iiq_x1d.fits.gz\n",
      "+++ Scaling LP2 to LP1 using data from datasets: /grp/hst/cos2/cosmo/12806/lbxmt1nxq_x1d.fits.gz /grp/hst/cos2/cosmo/12806/lbxm1bvsq_x1d.fits.gz\n",
      "+++ Scaling LP4 to LP3 using data from datasets: /grp/hst/cos2/cosmo/14854/ldcv20elq_x1d.fits.gz /grp/hst/cos2/cosmo/14854/ldcv22wpq_x1d.fits.gz\n",
      "+++ Scaling LP3 to LP2 using data from datasets: /grp/hst/cos2/cosmo/13967/lcqz03ogq_x1d.fits.gz /grp/hst/cos2/cosmo/13967/lcqz04h8q_x1d.fits.gz\n",
      "+++ Scaling LP6 to LP4 using data from datasets: /grp/hst/cos2/cosmo/16830/ler15akzq_x1d.fits.gz /grp/hst/cos2/cosmo/16830/ler15am1q_x1d.fits.gz\n",
      "+++ Scaling LP4 to LP3 using data from datasets: /grp/hst/cos2/cosmo/14854/ldcv20euq_x1d.fits.gz /grp/hst/cos2/cosmo/14854/ldcv22wtq_x1d.fits.gz\n",
      "+++ Scaling LP3 to LP2 using data from datasets: /grp/hst/cos2/cosmo/13967/lcqz03ooq_x1d.fits.gz /grp/hst/cos2/cosmo/13967/lcqz04hrq_x1d.fits.gz\n",
      "+++ Scaling LP2 to LP1 using data from datasets: /grp/hst/cos2/cosmo/12806/lbxmt2w3q_x1d.fits.gz /grp/hst/cos2/cosmo/12806/lbxmt4loq_x1d.fits.gz\n",
      "+++ Scaling LP3 to LP2 using data from datasets: /grp/hst/cos2/cosmo/13967/lcqz03okq_x1d.fits.gz /grp/hst/cos2/cosmo/13967/lcqz04hcq_x1d.fits.gz\n",
      "+++ Scaling LP2 to LP1 using data from datasets: /grp/hst/cos2/cosmo/12806/lbxmt1o5q_x1d.fits.gz /grp/hst/cos2/cosmo/12806/lbxm1araq_x1d.fits.gz\n",
      "+++ Scaling LP5 to LP4 using data from datasets: /grp/hst/cos2/cosmo/16324/lefe05o0q_x1d.fits.gz /grp/hst/cos2/cosmo/16324/lefe05o2q_x1d.fits.gz\n",
      "+++ Scaling LP4 to LP3 using data from datasets: /grp/hst/cos2/cosmo/14854/ldcv20enq_x1d.fits.gz /grp/hst/cos2/cosmo/14854/ldcv22wrq_x1d.fits.gz\n",
      "+++ Scaling LP6 to LP4 using data from datasets: /grp/hst/cos2/cosmo/16830/ler15al4q_x1d.fits.gz /grp/hst/cos2/cosmo/16830/ler15amdq_x1d.fits.gz\n",
      "+++ Scaling LP3 to LP2 using data from datasets: /grp/hst/cos2/cosmo/13967/lcqz03oiq_x1d.fits.gz /grp/hst/cos2/cosmo/13967/lcqz04haq_x1d.fits.gz\n",
      "+++ Scaling LP4 to LP3 using data from datasets: /grp/hst/cos2/cosmo/14854/ldcv20ewq_x1d.fits.gz /grp/hst/cos2/cosmo/14854/ldcv22wvq_x1d.fits.gz\n",
      "+++ Scaling LP2 to LP1 using data from datasets: /grp/hst/cos2/cosmo/12806/lbxmt1o3q_x1d.fits.gz /grp/hst/cos2/cosmo/12806/lbxm1aqfq_x1d.fits.gz\n",
      "+++ Scaling LP3 to LP2 using data from datasets: /grp/hst/cos2/cosmo/13967/lcqz03oqq_x1d.fits.gz /grp/hst/cos2/cosmo/13967/lcqz04idq_x1d.fits.gz\n",
      "+++ Scaling LP2 to LP1 using data from datasets: /grp/hst/cos2/cosmo/12806/lbxmt2w7q_x1d.fits.gz /grp/hst/cos2/cosmo/12806/lbxmt4mmq_x1d.fits.gz\n",
      "+++ Scaling LP6 to LP4 using data from datasets: /grp/hst/cos2/cosmo/16830/ler15aknq_x1d.fits.gz /grp/hst/cos2/cosmo/16830/ler15al8q_x1d.fits.gz\n",
      "+++ Scaling LP4 to LP3 using data from datasets: /grp/hst/cos2/cosmo/14854/ldcv20eyq_x1d.fits.gz /grp/hst/cos2/cosmo/14854/ldcv22wxq_x1d.fits.gz\n",
      "+++ Scaling LP3 to LP4 using data from datasets: /grp/hst/cos2/cosmo/14854/ldcv22wxq_x1d.fits.gz /grp/hst/cos2/cosmo/14854/ldcv20eyq_x1d.fits.gz\n",
      "+++ Scaling LP3 to LP2 using data from datasets: /grp/hst/cos2/cosmo/13967/lcqz03osq_x1d.fits.gz /grp/hst/cos2/cosmo/13967/lcqz04iiq_x1d.fits.gz\n",
      "+++ Scaling LP3 to LP4 using data from datasets: /grp/hst/cos2/cosmo/16324/lefe07lzq_x1d.fits.gz /grp/hst/cos2/cosmo/16324/lefe07lxq_x1d.fits.gz\n",
      "+++ Scaling LP2 to LP1 using data from datasets: /grp/hst/cos2/cosmo/12806/lbxmt1nxq_x1d.fits.gz /grp/hst/cos2/cosmo/12806/lbxm1bvsq_x1d.fits.gz\n",
      "+++ Scaling LP4 to LP3 using data from datasets: /grp/hst/cos2/cosmo/14854/ldcv20elq_x1d.fits.gz /grp/hst/cos2/cosmo/14854/ldcv22wpq_x1d.fits.gz\n",
      "+++ Scaling LP3 to LP2 using data from datasets: /grp/hst/cos2/cosmo/13967/lcqz03ogq_x1d.fits.gz /grp/hst/cos2/cosmo/13967/lcqz04h8q_x1d.fits.gz\n",
      "+++ Scaling LP6 to LP4 using data from datasets: /grp/hst/cos2/cosmo/16830/ler156gyq_x1d.fits.gz /grp/hst/cos2/cosmo/16830/ler156gmq_x1d.fits.gz\n",
      "+++ Scaling LP4 to LP3 using data from datasets: /grp/hst/cos2/cosmo/14854/ldcv21f8q_x1d.fits.gz /grp/hst/cos2/cosmo/14854/ldcv23mtq_x1d.fits.gz\n",
      "+++ Scaling LP3 to LP2 using data from datasets: /grp/hst/cos2/cosmo/13967/lcqz23p2q_x1d.fits.gz /grp/hst/cos2/cosmo/13967/lcqz24isq_x1d.fits.gz\n",
      "+++ Scaling LP2 to LP1 using data from datasets: /grp/hst/cos2/cosmo/12806/lbxmt2w3q_x1d.fits.gz /grp/hst/cos2/cosmo/12806/lbxm03fmq_x1d.fits.gz\n",
      "+++ Scaling LP5 to LP4 using data from datasets: /grp/hst/cos2/cosmo/16324/lefe05piq_x1d.fits.gz /grp/hst/cos2/cosmo/16324/lefe05pkq_x1d.fits.gz\n",
      "+++ Scaling LP5 to LP4 using data from datasets: /grp/hst/cos2/cosmo/16324/lefe05o0q_x1d.fits.gz /grp/hst/cos2/cosmo/16324/lefe05o2q_x1d.fits.gz\n",
      "+++ Scaling LP4 to LP3 using data from datasets: /grp/hst/cos2/cosmo/14854/ldcv20epq_x1d.fits.gz /grp/hst/cos2/cosmo/14854/ldcv22x1q_x1d.fits.gz\n",
      "+++ Scaling LP4 to LP3 using data from datasets: /grp/hst/cos2/cosmo/14854/ldcv20enq_x1d.fits.gz /grp/hst/cos2/cosmo/14854/ldcv22wrq_x1d.fits.gz\n",
      "+++ Scaling LP3 to LP2 using data from datasets: /grp/hst/cos2/cosmo/13967/lcqz03okq_x1d.fits.gz /grp/hst/cos2/cosmo/13967/lcqz04hcq_x1d.fits.gz\n",
      "+++ Scaling LP3 to LP2 using data from datasets: /grp/hst/cos2/cosmo/13967/lcqz03oiq_x1d.fits.gz /grp/hst/cos2/cosmo/13967/lcqz04haq_x1d.fits.gz\n",
      "+++ Scaling LP4 to LP3 using data from datasets: /grp/hst/cos2/cosmo/14854/ldcv20f0q_x1d.fits.gz /grp/hst/cos2/cosmo/14854/ldcv22wzq_x1d.fits.gz\n",
      "+++ Scaling LP2 to LP1 using data from datasets: /grp/hst/cos2/cosmo/12806/lbxmt1o5q_x1d.fits.gz /grp/hst/cos2/cosmo/12806/lbxm1araq_x1d.fits.gz\n",
      "+++ Scaling LP3 to LP4 using data from datasets: /grp/hst/cos2/cosmo/14854/ldcv22wzq_x1d.fits.gz /grp/hst/cos2/cosmo/14854/ldcv20f0q_x1d.fits.gz\n",
      "+++ Scaling LP2 to LP1 using data from datasets: /grp/hst/cos2/cosmo/12806/lbxmt1o3q_x1d.fits.gz /grp/hst/cos2/cosmo/12806/lbxm1aqfq_x1d.fits.gz\n",
      "+++ Scaling LP3 to LP2 using data from datasets: /grp/hst/cos2/cosmo/13967/lcqz03ouq_x1d.fits.gz /grp/hst/cos2/cosmo/13967/lcqz04ikq_x1d.fits.gz\n",
      "+++ Scaling LP2 to LP1 using data from datasets: /grp/hst/cos2/cosmo/12806/lbxmt1oeq_x1d.fits.gz /grp/hst/cos2/cosmo/12806/lbxm1bw0q_x1d.fits.gz\n",
      "+++ Scaling LP6 to LP4 using data from datasets: /grp/hst/cos2/cosmo/16830/ler156h2q_x1d.fits.gz /grp/hst/cos2/cosmo/16830/ler156guq_x1d.fits.gz\n",
      "+++ Scaling LP6 to LP4 using data from datasets: /grp/hst/cos2/cosmo/16830/ler156gwq_x1d.fits.gz /grp/hst/cos2/cosmo/16830/ler156giq_x1d.fits.gz\n",
      "+++ Scaling LP4 to LP3 using data from datasets: /grp/hst/cos2/cosmo/14854/ldcv21faq_x1d.fits.gz /grp/hst/cos2/cosmo/14854/ldcv23mvq_x1d.fits.gz\n",
      "+++ Scaling LP3 to LP2 using data from datasets: /grp/hst/cos2/cosmo/13967/lcqz23p4q_x1d.fits.gz /grp/hst/cos2/cosmo/13967/lcqz24iuq_x1d.fits.gz\n",
      "+++ Scaling LP2 to LP1 using data from datasets: /grp/hst/cos2/cosmo/12806/lbxmt2w7q_x1d.fits.gz /grp/hst/cos2/cosmo/12806/lbxm03giq_x1d.fits.gz\n"
     ]
    },
    {
     "ename": "IndexingError",
     "evalue": "Too many indexers",
     "output_type": "error",
     "traceback": [
      "\u001b[0;31m---------------------------------------------------------------------------\u001b[0m",
      "\u001b[0;31mRemoteTraceback\u001b[0m                           Traceback (most recent call last)",
      "\u001b[0;31mRemoteTraceback\u001b[0m: \n\"\"\"\nTraceback (most recent call last):\n  File \"/Users/jhernandez/miniconda3/envs/stenv/lib/python3.12/multiprocessing/pool.py\", line 125, in worker\n    result = (True, func(*args, **kwds))\n                    ^^^^^^^^^^^^^^^^^^^\n  File \"/Users/jhernandez/miniconda3/envs/stenv/lib/python3.12/multiprocessing/pool.py\", line 51, in starmapstar\n    return list(itertools.starmap(args[0], args[1]))\n           ^^^^^^^^^^^^^^^^^^^^^^^^^^^^^^^^^^^^^^^^^\n  File \"/Users/jhernandez/Desktop/fuvtds/monitor/fuvtds_base_class.py\", line 206, in scale_to_1\n    print(table[f'{size}_binned_net'].iloc[:,i])\n          ~~~~~~~~~~~~~~~~~~~~~~~~~~~~~~~~^^^^^\n  File \"/Users/jhernandez/miniconda3/envs/stenv/lib/python3.12/site-packages/pandas/core/indexing.py\", line 1184, in __getitem__\n    return self._getitem_tuple(key)\n           ^^^^^^^^^^^^^^^^^^^^^^^^\n  File \"/Users/jhernandez/miniconda3/envs/stenv/lib/python3.12/site-packages/pandas/core/indexing.py\", line 1690, in _getitem_tuple\n    tup = self._validate_tuple_indexer(tup)\n          ^^^^^^^^^^^^^^^^^^^^^^^^^^^^^^^^^\n  File \"/Users/jhernandez/miniconda3/envs/stenv/lib/python3.12/site-packages/pandas/core/indexing.py\", line 962, in _validate_tuple_indexer\n    key = self._validate_key_length(key)\n          ^^^^^^^^^^^^^^^^^^^^^^^^^^^^^^\n  File \"/Users/jhernandez/miniconda3/envs/stenv/lib/python3.12/site-packages/pandas/core/indexing.py\", line 1001, in _validate_key_length\n    raise IndexingError(\"Too many indexers\")\npandas.errors.IndexingError: Too many indexers\n\"\"\"",
      "\nThe above exception was the direct cause of the following exception:\n",
      "\u001b[0;31mIndexingError\u001b[0m                             Traceback (most recent call last)",
      "Cell \u001b[0;32mIn[2], line 1\u001b[0m\n\u001b[0;32m----> 1\u001b[0m x \u001b[38;5;241m=\u001b[39m \u001b[43mFUVTDSBase\u001b[49m\u001b[43m(\u001b[49m\u001b[43mPIDs\u001b[49m\u001b[38;5;241;43m=\u001b[39;49m\u001b[38;5;124;43m'\u001b[39;49m\u001b[38;5;124;43mfuvtds_analysis_list.dat\u001b[39;49m\u001b[38;5;124;43m'\u001b[39;49m\u001b[43m)\u001b[49m\n",
      "File \u001b[0;32m~/Desktop/fuvtds/monitor/fuvtds_base_class.py:84\u001b[0m, in \u001b[0;36mFUVTDSBase.__init__\u001b[0;34m(self, PIDs, reftime, inventory)\u001b[0m\n\u001b[1;32m     81\u001b[0m \u001b[38;5;28mself\u001b[39m\u001b[38;5;241m.\u001b[39mreftime \u001b[38;5;241m=\u001b[39m Time(reftime, \u001b[38;5;28mformat\u001b[39m\u001b[38;5;241m=\u001b[39m\u001b[38;5;124m\"\u001b[39m\u001b[38;5;124mmjd\u001b[39m\u001b[38;5;124m\"\u001b[39m)\u001b[38;5;241m.\u001b[39mdecimalyear\n\u001b[1;32m     83\u001b[0m tables \u001b[38;5;241m=\u001b[39m \u001b[38;5;28mself\u001b[39m\u001b[38;5;241m.\u001b[39mparse_infiles(PIDs, inventory)\n\u001b[0;32m---> 84\u001b[0m tables \u001b[38;5;241m=\u001b[39m \u001b[38;5;28;43mself\u001b[39;49m\u001b[38;5;241;43m.\u001b[39;49m\u001b[43mscalings\u001b[49m\u001b[43m(\u001b[49m\u001b[43mtables\u001b[49m\u001b[43m)\u001b[49m\n",
      "File \u001b[0;32m~/Desktop/fuvtds/monitor/fuvtds_base_class.py:498\u001b[0m, in \u001b[0;36mFUVTDSBase.scalings\u001b[0;34m(self, table)\u001b[0m\n\u001b[1;32m    496\u001b[0m \u001b[38;5;28;01mfor\u001b[39;00m segment \u001b[38;5;129;01min\u001b[39;00m \u001b[38;5;28mset\u001b[39m(table[\u001b[38;5;124m'\u001b[39m\u001b[38;5;124msegment\u001b[39m\u001b[38;5;124m'\u001b[39m]):\n\u001b[1;32m    497\u001b[0m     \u001b[38;5;28;01mwith\u001b[39;00m mp\u001b[38;5;241m.\u001b[39mPool(\u001b[38;5;241m16\u001b[39m) \u001b[38;5;28;01mas\u001b[39;00m pool:\n\u001b[0;32m--> 498\u001b[0m         tab \u001b[38;5;241m=\u001b[39m \u001b[43mpool\u001b[49m\u001b[38;5;241;43m.\u001b[39;49m\u001b[43mstarmap\u001b[49m\u001b[43m(\u001b[49m\u001b[38;5;28;43mself\u001b[39;49m\u001b[38;5;241;43m.\u001b[39;49m\u001b[43mscale_to_1\u001b[49m\u001b[43m,\u001b[49m\u001b[43m \u001b[49m\u001b[38;5;28;43mzip\u001b[39;49m\u001b[43m(\u001b[49m\u001b[38;5;28;43mset\u001b[39;49m\u001b[43m(\u001b[49m\u001b[43mtable\u001b[49m\u001b[43m[\u001b[49m\u001b[38;5;124;43m'\u001b[39;49m\u001b[38;5;124;43mcenwave\u001b[39;49m\u001b[38;5;124;43m'\u001b[39;49m\u001b[43m]\u001b[49m\u001b[43m)\u001b[49m\u001b[43m,\u001b[49m\u001b[43m \u001b[49m\u001b[43mrepeat\u001b[49m\u001b[43m(\u001b[49m\u001b[43msegment\u001b[49m\u001b[43m)\u001b[49m\u001b[43m,\u001b[49m\u001b[43m \u001b[49m\u001b[43mrepeat\u001b[49m\u001b[43m(\u001b[49m\u001b[43mtable\u001b[49m\u001b[43m)\u001b[49m\u001b[43m)\u001b[49m\u001b[43m)\u001b[49m\n\u001b[1;32m    499\u001b[0m     pool\u001b[38;5;241m.\u001b[39mterminate\n\u001b[1;32m    501\u001b[0m     tab \u001b[38;5;241m=\u001b[39m pd\u001b[38;5;241m.\u001b[39mconcat(tab, ignore_index\u001b[38;5;241m=\u001b[39m\u001b[38;5;28;01mTrue\u001b[39;00m)\n",
      "File \u001b[0;32m~/miniconda3/envs/stenv/lib/python3.12/multiprocessing/pool.py:375\u001b[0m, in \u001b[0;36mPool.starmap\u001b[0;34m(self, func, iterable, chunksize)\u001b[0m\n\u001b[1;32m    369\u001b[0m \u001b[38;5;28;01mdef\u001b[39;00m \u001b[38;5;21mstarmap\u001b[39m(\u001b[38;5;28mself\u001b[39m, func, iterable, chunksize\u001b[38;5;241m=\u001b[39m\u001b[38;5;28;01mNone\u001b[39;00m):\n\u001b[1;32m    370\u001b[0m \u001b[38;5;250m    \u001b[39m\u001b[38;5;124;03m'''\u001b[39;00m\n\u001b[1;32m    371\u001b[0m \u001b[38;5;124;03m    Like `map()` method but the elements of the `iterable` are expected to\u001b[39;00m\n\u001b[1;32m    372\u001b[0m \u001b[38;5;124;03m    be iterables as well and will be unpacked as arguments. Hence\u001b[39;00m\n\u001b[1;32m    373\u001b[0m \u001b[38;5;124;03m    `func` and (a, b) becomes func(a, b).\u001b[39;00m\n\u001b[1;32m    374\u001b[0m \u001b[38;5;124;03m    '''\u001b[39;00m\n\u001b[0;32m--> 375\u001b[0m     \u001b[38;5;28;01mreturn\u001b[39;00m \u001b[38;5;28;43mself\u001b[39;49m\u001b[38;5;241;43m.\u001b[39;49m\u001b[43m_map_async\u001b[49m\u001b[43m(\u001b[49m\u001b[43mfunc\u001b[49m\u001b[43m,\u001b[49m\u001b[43m \u001b[49m\u001b[43miterable\u001b[49m\u001b[43m,\u001b[49m\u001b[43m \u001b[49m\u001b[43mstarmapstar\u001b[49m\u001b[43m,\u001b[49m\u001b[43m \u001b[49m\u001b[43mchunksize\u001b[49m\u001b[43m)\u001b[49m\u001b[38;5;241;43m.\u001b[39;49m\u001b[43mget\u001b[49m\u001b[43m(\u001b[49m\u001b[43m)\u001b[49m\n",
      "File \u001b[0;32m~/miniconda3/envs/stenv/lib/python3.12/multiprocessing/pool.py:774\u001b[0m, in \u001b[0;36mApplyResult.get\u001b[0;34m(self, timeout)\u001b[0m\n\u001b[1;32m    772\u001b[0m     \u001b[38;5;28;01mreturn\u001b[39;00m \u001b[38;5;28mself\u001b[39m\u001b[38;5;241m.\u001b[39m_value\n\u001b[1;32m    773\u001b[0m \u001b[38;5;28;01melse\u001b[39;00m:\n\u001b[0;32m--> 774\u001b[0m     \u001b[38;5;28;01mraise\u001b[39;00m \u001b[38;5;28mself\u001b[39m\u001b[38;5;241m.\u001b[39m_value\n",
      "File \u001b[0;32m~/miniconda3/envs/stenv/lib/python3.12/multiprocessing/pool.py:125\u001b[0m, in \u001b[0;36mworker\u001b[0;34m()\u001b[0m\n\u001b[1;32m    123\u001b[0m job, i, func, args, kwds \u001b[38;5;241m=\u001b[39m task\n\u001b[1;32m    124\u001b[0m \u001b[38;5;28;01mtry\u001b[39;00m:\n\u001b[0;32m--> 125\u001b[0m     result \u001b[38;5;241m=\u001b[39m (\u001b[38;5;28;01mTrue\u001b[39;00m, func(\u001b[38;5;241m*\u001b[39margs, \u001b[38;5;241m*\u001b[39m\u001b[38;5;241m*\u001b[39mkwds))\n\u001b[1;32m    126\u001b[0m \u001b[38;5;28;01mexcept\u001b[39;00m \u001b[38;5;167;01mException\u001b[39;00m \u001b[38;5;28;01mas\u001b[39;00m e:\n\u001b[1;32m    127\u001b[0m     \u001b[38;5;28;01mif\u001b[39;00m wrap_exception \u001b[38;5;129;01mand\u001b[39;00m func \u001b[38;5;129;01mis\u001b[39;00m \u001b[38;5;129;01mnot\u001b[39;00m _helper_reraises_exception:\n",
      "File \u001b[0;32m~/miniconda3/envs/stenv/lib/python3.12/multiprocessing/pool.py:51\u001b[0m, in \u001b[0;36mstarmapstar\u001b[0;34m()\u001b[0m\n\u001b[1;32m     50\u001b[0m \u001b[38;5;28;01mdef\u001b[39;00m \u001b[38;5;21mstarmapstar\u001b[39m(args):\n\u001b[0;32m---> 51\u001b[0m     \u001b[38;5;28;01mreturn\u001b[39;00m \u001b[38;5;28mlist\u001b[39m(itertools\u001b[38;5;241m.\u001b[39mstarmap(args[\u001b[38;5;241m0\u001b[39m], args[\u001b[38;5;241m1\u001b[39m]))\n",
      "File \u001b[0;32m~/Desktop/fuvtds/monitor/fuvtds_base_class.py:206\u001b[0m, in \u001b[0;36mscale_to_1\u001b[0;34m()\u001b[0m\n\u001b[1;32m    201\u001b[0m x \u001b[38;5;241m=\u001b[39m np\u001b[38;5;241m.\u001b[39marray(table[\u001b[38;5;124m'\u001b[39m\u001b[38;5;124mdate-obs\u001b[39m\u001b[38;5;124m'\u001b[39m])\u001b[38;5;241m.\u001b[39mflatten() \u001b[38;5;241m-\u001b[39m \u001b[38;5;28mself\u001b[39m\u001b[38;5;241m.\u001b[39mreftime\n\u001b[1;32m    203\u001b[0m \u001b[38;5;28;01mfor\u001b[39;00m i, _ \u001b[38;5;129;01min\u001b[39;00m \u001b[38;5;28menumerate\u001b[39m(table[\u001b[38;5;124mf\u001b[39m\u001b[38;5;124m'\u001b[39m\u001b[38;5;132;01m{\u001b[39;00msize\u001b[38;5;132;01m}\u001b[39;00m\u001b[38;5;124m_binned_wl\u001b[39m\u001b[38;5;124m'\u001b[39m]\u001b[38;5;241m.\u001b[39miloc[\u001b[38;5;241m0\u001b[39m]):\n\u001b[1;32m    204\u001b[0m     \n\u001b[1;32m    205\u001b[0m     \u001b[38;5;66;03m# Scaled net count of given cenwave and segment\u001b[39;00m\n\u001b[0;32m--> 206\u001b[0m     \u001b[38;5;28mprint\u001b[39m(table[\u001b[38;5;124mf\u001b[39m\u001b[38;5;124m'\u001b[39m\u001b[38;5;132;01m{\u001b[39;00msize\u001b[38;5;132;01m}\u001b[39;00m\u001b[38;5;124m_binned_net\u001b[39m\u001b[38;5;124m'\u001b[39m]\u001b[38;5;241m.\u001b[39miloc[:,i])\n\u001b[1;32m    207\u001b[0m     y \u001b[38;5;241m=\u001b[39m np\u001b[38;5;241m.\u001b[39marray(table[\u001b[38;5;124mf\u001b[39m\u001b[38;5;124m'\u001b[39m\u001b[38;5;132;01m{\u001b[39;00msize\u001b[38;5;132;01m}\u001b[39;00m\u001b[38;5;124m_binned_net\u001b[39m\u001b[38;5;124m'\u001b[39m])\u001b[38;5;241m.\u001b[39mflatten()[:,i]\u001b[38;5;241m.\u001b[39mravel()\n\u001b[1;32m    208\u001b[0m     error \u001b[38;5;241m=\u001b[39m np\u001b[38;5;241m.\u001b[39marray(table[\u001b[38;5;124mf\u001b[39m\u001b[38;5;124m'\u001b[39m\u001b[38;5;132;01m{\u001b[39;00msize\u001b[38;5;132;01m}\u001b[39;00m\u001b[38;5;124m_stdev\u001b[39m\u001b[38;5;124m'\u001b[39m])\u001b[38;5;241m.\u001b[39mflatten()[:,i]\u001b[38;5;241m.\u001b[39mravel()\n",
      "File \u001b[0;32m~/miniconda3/envs/stenv/lib/python3.12/site-packages/pandas/core/indexing.py:1184\u001b[0m, in \u001b[0;36m__getitem__\u001b[0;34m()\u001b[0m\n\u001b[1;32m   1182\u001b[0m     \u001b[38;5;28;01mif\u001b[39;00m \u001b[38;5;28mself\u001b[39m\u001b[38;5;241m.\u001b[39m_is_scalar_access(key):\n\u001b[1;32m   1183\u001b[0m         \u001b[38;5;28;01mreturn\u001b[39;00m \u001b[38;5;28mself\u001b[39m\u001b[38;5;241m.\u001b[39mobj\u001b[38;5;241m.\u001b[39m_get_value(\u001b[38;5;241m*\u001b[39mkey, takeable\u001b[38;5;241m=\u001b[39m\u001b[38;5;28mself\u001b[39m\u001b[38;5;241m.\u001b[39m_takeable)\n\u001b[0;32m-> 1184\u001b[0m     \u001b[38;5;28;01mreturn\u001b[39;00m \u001b[38;5;28mself\u001b[39m\u001b[38;5;241m.\u001b[39m_getitem_tuple(key)\n\u001b[1;32m   1185\u001b[0m \u001b[38;5;28;01melse\u001b[39;00m:\n\u001b[1;32m   1186\u001b[0m     \u001b[38;5;66;03m# we by definition only have the 0th axis\u001b[39;00m\n\u001b[1;32m   1187\u001b[0m     axis \u001b[38;5;241m=\u001b[39m \u001b[38;5;28mself\u001b[39m\u001b[38;5;241m.\u001b[39maxis \u001b[38;5;129;01mor\u001b[39;00m \u001b[38;5;241m0\u001b[39m\n",
      "File \u001b[0;32m~/miniconda3/envs/stenv/lib/python3.12/site-packages/pandas/core/indexing.py:1690\u001b[0m, in \u001b[0;36m_getitem_tuple\u001b[0;34m()\u001b[0m\n\u001b[1;32m   1689\u001b[0m \u001b[38;5;28;01mdef\u001b[39;00m \u001b[38;5;21m_getitem_tuple\u001b[39m(\u001b[38;5;28mself\u001b[39m, tup: \u001b[38;5;28mtuple\u001b[39m):\n\u001b[0;32m-> 1690\u001b[0m     tup \u001b[38;5;241m=\u001b[39m \u001b[38;5;28mself\u001b[39m\u001b[38;5;241m.\u001b[39m_validate_tuple_indexer(tup)\n\u001b[1;32m   1691\u001b[0m     \u001b[38;5;28;01mwith\u001b[39;00m suppress(IndexingError):\n\u001b[1;32m   1692\u001b[0m         \u001b[38;5;28;01mreturn\u001b[39;00m \u001b[38;5;28mself\u001b[39m\u001b[38;5;241m.\u001b[39m_getitem_lowerdim(tup)\n",
      "File \u001b[0;32m~/miniconda3/envs/stenv/lib/python3.12/site-packages/pandas/core/indexing.py:962\u001b[0m, in \u001b[0;36m_validate_tuple_indexer\u001b[0;34m()\u001b[0m\n\u001b[1;32m    957\u001b[0m \u001b[38;5;129m@final\u001b[39m\n\u001b[1;32m    958\u001b[0m \u001b[38;5;28;01mdef\u001b[39;00m \u001b[38;5;21m_validate_tuple_indexer\u001b[39m(\u001b[38;5;28mself\u001b[39m, key: \u001b[38;5;28mtuple\u001b[39m) \u001b[38;5;241m-\u001b[39m\u001b[38;5;241m>\u001b[39m \u001b[38;5;28mtuple\u001b[39m:\n\u001b[1;32m    959\u001b[0m \u001b[38;5;250m    \u001b[39m\u001b[38;5;124;03m\"\"\"\u001b[39;00m\n\u001b[1;32m    960\u001b[0m \u001b[38;5;124;03m    Check the key for valid keys across my indexer.\u001b[39;00m\n\u001b[1;32m    961\u001b[0m \u001b[38;5;124;03m    \"\"\"\u001b[39;00m\n\u001b[0;32m--> 962\u001b[0m     key \u001b[38;5;241m=\u001b[39m \u001b[38;5;28mself\u001b[39m\u001b[38;5;241m.\u001b[39m_validate_key_length(key)\n\u001b[1;32m    963\u001b[0m     key \u001b[38;5;241m=\u001b[39m \u001b[38;5;28mself\u001b[39m\u001b[38;5;241m.\u001b[39m_expand_ellipsis(key)\n\u001b[1;32m    964\u001b[0m     \u001b[38;5;28;01mfor\u001b[39;00m i, k \u001b[38;5;129;01min\u001b[39;00m \u001b[38;5;28menumerate\u001b[39m(key):\n",
      "File \u001b[0;32m~/miniconda3/envs/stenv/lib/python3.12/site-packages/pandas/core/indexing.py:1001\u001b[0m, in \u001b[0;36m_validate_key_length\u001b[0;34m()\u001b[0m\n\u001b[1;32m    999\u001b[0m             \u001b[38;5;28;01mraise\u001b[39;00m IndexingError(_one_ellipsis_message)\n\u001b[1;32m   1000\u001b[0m         \u001b[38;5;28;01mreturn\u001b[39;00m \u001b[38;5;28mself\u001b[39m\u001b[38;5;241m.\u001b[39m_validate_key_length(key)\n\u001b[0;32m-> 1001\u001b[0m     \u001b[38;5;28;01mraise\u001b[39;00m IndexingError(\u001b[38;5;124m\"\u001b[39m\u001b[38;5;124mToo many indexers\u001b[39m\u001b[38;5;124m\"\u001b[39m)\n\u001b[1;32m   1002\u001b[0m \u001b[38;5;28;01mreturn\u001b[39;00m key\n",
      "\u001b[0;31mIndexingError\u001b[0m: Too many indexers"
     ]
    }
   ],
   "source": [
    "x = FUVTDSBase(PIDs='fuvtds_analysis_list.dat')"
   ]
  },
  {
   "cell_type": "code",
   "execution_count": null,
   "metadata": {},
   "outputs": [],
   "source": []
  }
 ],
 "metadata": {
  "kernelspec": {
   "display_name": "hst",
   "language": "python",
   "name": "python3"
  },
  "language_info": {
   "codemirror_mode": {
    "name": "ipython",
    "version": 3
   },
   "file_extension": ".py",
   "mimetype": "text/x-python",
   "name": "python",
   "nbconvert_exporter": "python",
   "pygments_lexer": "ipython3",
   "version": "3.12.4"
  }
 },
 "nbformat": 4,
 "nbformat_minor": 2
}
