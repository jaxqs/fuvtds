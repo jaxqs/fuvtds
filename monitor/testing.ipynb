{
 "cells": [
  {
   "cell_type": "code",
   "execution_count": 1,
   "metadata": {},
   "outputs": [],
   "source": [
    "from fuvtds_base_class import FUVTDSBase"
   ]
  },
  {
   "cell_type": "code",
   "execution_count": 2,
   "metadata": {},
   "outputs": [
    {
     "data": {
      "application/vnd.jupyter.widget-view+json": {
       "model_id": "9d5fc0e3b32b477fb979fef2284f843d",
       "version_major": 2,
       "version_minor": 0
      },
      "text/plain": [
       "  0%|          | 0/1913 [00:00<?, ?it/s]"
      ]
     },
     "metadata": {},
     "output_type": "display_data"
    },
    {
     "name": "stdout",
     "output_type": "stream",
     "text": [
      "+++ Scaling LP6 to LP4 using data from datasets: /grp/hst/cos2/cosmo/16830/ler156gwq_x1d.fits.gz /grp/hst/cos2/cosmo/16830/ler156giq_x1d.fits.gz\n",
      "+++ Scaling LP6 to LP4 using data from datasets: /grp/hst/cos2/cosmo/16830/ler15aknq_x1d.fits.gz /grp/hst/cos2/cosmo/16830/ler15al8q_x1d.fits.gz\n",
      "+++ Scaling LP6 to LP4 using data from datasets: /grp/hst/cos2/cosmo/16830/ler156gyq_x1d.fits.gz /grp/hst/cos2/cosmo/16830/ler156gmq_x1d.fits.gz\n",
      "+++ Scaling LP3 to LP2 using data from datasets: /grp/hst/cos2/cosmo/13967/lcqz23p2q_x1d.fits.gz /grp/hst/cos2/cosmo/13967/lcqz24isq_x1d.fits.gz\n",
      "+++ Scaling LP2 to LP1 using data from datasets: /grp/hst/cos2/cosmo/12806/lbxmt2w3q_x1d.fits.gz /grp/hst/cos2/cosmo/12806/lbxm03fmq_x1d.fits.gz\n",
      "+++ Scaling LP6 to LP4 using data from datasets: /grp/hst/cos2/cosmo/16830/ler15akzq_x1d.fits.gz /grp/hst/cos2/cosmo/16830/ler15am1q_x1d.fits.gz\n",
      "+++ Scaling LP3 to LP2 using data from datasets: /grp/hst/cos2/cosmo/13967/lcqz03ooq_x1d.fits.gz /grp/hst/cos2/cosmo/13967/lcqz04hrq_x1d.fits.gz\n",
      "+++ Scaling LP2 to LP1 using data from datasets: /grp/hst/cos2/cosmo/12806/lbxmt2w3q_x1d.fits.gz /grp/hst/cos2/cosmo/12806/lbxmt4loq_x1d.fits.gz\n",
      "+++ Scaling LP6 to LP4 using data from datasets: /grp/hst/cos2/cosmo/16830/ler156h2q_x1d.fits.gz /grp/hst/cos2/cosmo/16830/ler156guq_x1d.fits.gz\n",
      "+++ Scaling LP3 to LP2 using data from datasets: /grp/hst/cos2/cosmo/13967/lcqz23p4q_x1d.fits.gz /grp/hst/cos2/cosmo/13967/lcqz24iuq_x1d.fits.gz\n",
      "+++ Scaling LP2 to LP1 using data from datasets: /grp/hst/cos2/cosmo/12806/lbxmt2w7q_x1d.fits.gz /grp/hst/cos2/cosmo/12806/lbxm03giq_x1d.fits.gz\n",
      "+++ Scaling LP6 to LP4 using data from datasets: /grp/hst/cos2/cosmo/16830/ler15al4q_x1d.fits.gz /grp/hst/cos2/cosmo/16830/ler15amdq_x1d.fits.gz\n",
      "+++ Scaling LP3 to LP2 using data from datasets: /grp/hst/cos2/cosmo/13967/lcqz03oqq_x1d.fits.gz /grp/hst/cos2/cosmo/13967/lcqz04idq_x1d.fits.gz\n",
      "+++ Scaling LP2 to LP1 using data from datasets: /grp/hst/cos2/cosmo/12806/lbxmt2w7q_x1d.fits.gz /grp/hst/cos2/cosmo/12806/lbxmt4mmq_x1d.fits.gz\n",
      "+++ Scaling LP5 to LP4 using data from datasets: /grp/hst/cos2/cosmo/16324/lefe05o0q_x1d.fits.gz /grp/hst/cos2/cosmo/16324/lefe05o2q_x1d.fits.gz\n",
      "+++ Scaling LP3 to LP2 using data from datasets: /grp/hst/cos2/cosmo/13967/lcqz03oiq_x1d.fits.gz /grp/hst/cos2/cosmo/13967/lcqz04haq_x1d.fits.gz\n",
      "+++ Scaling LP2 to LP1 using data from datasets: /grp/hst/cos2/cosmo/12806/lbxmt1o3q_x1d.fits.gz /grp/hst/cos2/cosmo/12806/lbxm1aqfq_x1d.fits.gz\n",
      "+++ Scaling LP5 to LP4 using data from datasets: /grp/hst/cos2/cosmo/16324/lefe05o0q_x1d.fits.gz /grp/hst/cos2/cosmo/16324/lefe05o2q_x1d.fits.gz\n",
      "+++ Scaling LP3 to LP2 using data from datasets: /grp/hst/cos2/cosmo/13967/lcqz03oiq_x1d.fits.gz /grp/hst/cos2/cosmo/13967/lcqz04haq_x1d.fits.gz\n",
      "+++ Scaling LP2 to LP1 using data from datasets: /grp/hst/cos2/cosmo/12806/lbxmt1o3q_x1d.fits.gz /grp/hst/cos2/cosmo/12806/lbxm1aqfq_x1d.fits.gz\n",
      "+++ Scaling LP5 to LP4 using data from datasets: /grp/hst/cos2/cosmo/16324/lefe05piq_x1d.fits.gz /grp/hst/cos2/cosmo/16324/lefe05pkq_x1d.fits.gz\n",
      "+++ Scaling LP3 to LP2 using data from datasets: /grp/hst/cos2/cosmo/13967/lcqz03okq_x1d.fits.gz /grp/hst/cos2/cosmo/13967/lcqz04hcq_x1d.fits.gz\n",
      "+++ Scaling LP2 to LP1 using data from datasets: /grp/hst/cos2/cosmo/12806/lbxmt1o5q_x1d.fits.gz /grp/hst/cos2/cosmo/12806/lbxm1araq_x1d.fits.gz\n",
      "+++ Scaling LP3 to LP2 using data from datasets: /grp/hst/cos2/cosmo/13967/lcqz03okq_x1d.fits.gz /grp/hst/cos2/cosmo/13967/lcqz04hcq_x1d.fits.gz\n",
      "+++ Scaling LP2 to LP1 using data from datasets: /grp/hst/cos2/cosmo/12806/lbxmt1o5q_x1d.fits.gz /grp/hst/cos2/cosmo/12806/lbxm1araq_x1d.fits.gz\n",
      "+++ Scaling LP3 to LP2 using data from datasets: /grp/hst/cos2/cosmo/13967/lcqz03ogq_x1d.fits.gz /grp/hst/cos2/cosmo/13967/lcqz04h8q_x1d.fits.gz\n",
      "+++ Scaling LP3 to LP2 using data from datasets: /grp/hst/cos2/cosmo/13967/lcqz03ogq_x1d.fits.gz /grp/hst/cos2/cosmo/13967/lcqz04h8q_x1d.fits.gz\n",
      "+++ Scaling LP3 to LP2 using data from datasets: /grp/hst/cos2/cosmo/13967/lcqz03ouq_x1d.fits.gz /grp/hst/cos2/cosmo/13967/lcqz04ikq_x1d.fits.gz\n",
      "+++ Scaling LP2 to LP1 using data from datasets: /grp/hst/cos2/cosmo/12806/lbxmt1oeq_x1d.fits.gz /grp/hst/cos2/cosmo/12806/lbxm1bw0q_x1d.fits.gz\n",
      "+++ Scaling LP3 to LP2 using data from datasets: /grp/hst/cos2/cosmo/13967/lcqz03osq_x1d.fits.gz /grp/hst/cos2/cosmo/13967/lcqz04iiq_x1d.fits.gz\n",
      "+++ Scaling LP2 to LP1 using data from datasets: /grp/hst/cos2/cosmo/12806/lbxmt1nxq_x1d.fits.gz /grp/hst/cos2/cosmo/12806/lbxm1bvsq_x1d.fits.gz\n",
      "+++ Scaling LP3 to LP2 using data from datasets: /grp/hst/cos2/cosmo/13967/lcqz03osq_x1d.fits.gz /grp/hst/cos2/cosmo/13967/lcqz04iiq_x1d.fits.gz\n",
      "+++ Scaling LP2 to LP1 using data from datasets: /grp/hst/cos2/cosmo/12806/lbxmt1nxq_x1d.fits.gz /grp/hst/cos2/cosmo/12806/lbxm1bvsq_x1d.fits.gz\n",
      "+++ Scaling LP6 to LP4 using data from datasets: /grp/hst/cos2/cosmo/16830/ler156gwq_x1d.fits.gz /grp/hst/cos2/cosmo/16830/ler156giq_x1d.fits.gz\n",
      "+++ Scaling LP6 to LP4 using data from datasets: /grp/hst/cos2/cosmo/16830/ler15aknq_x1d.fits.gz /grp/hst/cos2/cosmo/16830/ler15al8q_x1d.fits.gz\n",
      "+++ Scaling LP6 to LP4 using data from datasets: /grp/hst/cos2/cosmo/16830/ler156gyq_x1d.fits.gz /grp/hst/cos2/cosmo/16830/ler156gmq_x1d.fits.gz\n",
      "+++ Scaling LP3 to LP2 using data from datasets: /grp/hst/cos2/cosmo/13967/lcqz23p2q_x1d.fits.gz /grp/hst/cos2/cosmo/13967/lcqz24isq_x1d.fits.gz\n",
      "+++ Scaling LP2 to LP1 using data from datasets: /grp/hst/cos2/cosmo/12806/lbxmt2w3q_x1d.fits.gz /grp/hst/cos2/cosmo/12806/lbxm03fmq_x1d.fits.gz\n",
      "+++ Scaling LP6 to LP4 using data from datasets: /grp/hst/cos2/cosmo/16830/ler15akzq_x1d.fits.gz /grp/hst/cos2/cosmo/16830/ler15am1q_x1d.fits.gz\n",
      "+++ Scaling LP3 to LP2 using data from datasets: /grp/hst/cos2/cosmo/13967/lcqz03ooq_x1d.fits.gz /grp/hst/cos2/cosmo/13967/lcqz04hrq_x1d.fits.gz\n",
      "+++ Scaling LP2 to LP1 using data from datasets: /grp/hst/cos2/cosmo/12806/lbxmt2w3q_x1d.fits.gz /grp/hst/cos2/cosmo/12806/lbxmt4loq_x1d.fits.gz\n",
      "+++ Scaling LP6 to LP4 using data from datasets: /grp/hst/cos2/cosmo/16830/ler156h2q_x1d.fits.gz /grp/hst/cos2/cosmo/16830/ler156guq_x1d.fits.gz\n",
      "+++ Scaling LP3 to LP2 using data from datasets: /grp/hst/cos2/cosmo/13967/lcqz23p4q_x1d.fits.gz /grp/hst/cos2/cosmo/13967/lcqz24iuq_x1d.fits.gz\n",
      "+++ Scaling LP2 to LP1 using data from datasets: /grp/hst/cos2/cosmo/12806/lbxmt2w7q_x1d.fits.gz /grp/hst/cos2/cosmo/12806/lbxm03giq_x1d.fits.gz\n",
      "+++ Scaling LP6 to LP4 using data from datasets: /grp/hst/cos2/cosmo/16830/ler15al4q_x1d.fits.gz /grp/hst/cos2/cosmo/16830/ler15amdq_x1d.fits.gz\n",
      "+++ Scaling LP3 to LP2 using data from datasets: /grp/hst/cos2/cosmo/13967/lcqz03oqq_x1d.fits.gz /grp/hst/cos2/cosmo/13967/lcqz04idq_x1d.fits.gz\n",
      "+++ Scaling LP2 to LP1 using data from datasets: /grp/hst/cos2/cosmo/12806/lbxmt2w7q_x1d.fits.gz /grp/hst/cos2/cosmo/12806/lbxmt4mmq_x1d.fits.gz\n",
      "+++ Scaling LP5 to LP4 using data from datasets: /grp/hst/cos2/cosmo/16324/lefe05o0q_x1d.fits.gz /grp/hst/cos2/cosmo/16324/lefe05o2q_x1d.fits.gz\n",
      "+++ Scaling LP3 to LP2 using data from datasets: /grp/hst/cos2/cosmo/13967/lcqz03oiq_x1d.fits.gz /grp/hst/cos2/cosmo/13967/lcqz04haq_x1d.fits.gz\n",
      "+++ Scaling LP2 to LP1 using data from datasets: /grp/hst/cos2/cosmo/12806/lbxmt1o3q_x1d.fits.gz /grp/hst/cos2/cosmo/12806/lbxm1aqfq_x1d.fits.gz\n",
      "+++ Scaling LP5 to LP4 using data from datasets: /grp/hst/cos2/cosmo/16324/lefe05o0q_x1d.fits.gz /grp/hst/cos2/cosmo/16324/lefe05o2q_x1d.fits.gz\n",
      "+++ Scaling LP3 to LP2 using data from datasets: /grp/hst/cos2/cosmo/13967/lcqz03oiq_x1d.fits.gz /grp/hst/cos2/cosmo/13967/lcqz04haq_x1d.fits.gz\n",
      "+++ Scaling LP2 to LP1 using data from datasets: /grp/hst/cos2/cosmo/12806/lbxmt1o3q_x1d.fits.gz /grp/hst/cos2/cosmo/12806/lbxm1aqfq_x1d.fits.gz\n",
      "+++ Scaling LP5 to LP4 using data from datasets: /grp/hst/cos2/cosmo/16324/lefe05piq_x1d.fits.gz /grp/hst/cos2/cosmo/16324/lefe05pkq_x1d.fits.gz\n",
      "+++ Scaling LP3 to LP2 using data from datasets: /grp/hst/cos2/cosmo/13967/lcqz03okq_x1d.fits.gz /grp/hst/cos2/cosmo/13967/lcqz04hcq_x1d.fits.gz\n",
      "+++ Scaling LP2 to LP1 using data from datasets: /grp/hst/cos2/cosmo/12806/lbxmt1o5q_x1d.fits.gz /grp/hst/cos2/cosmo/12806/lbxm1araq_x1d.fits.gz\n",
      "+++ Scaling LP3 to LP2 using data from datasets: /grp/hst/cos2/cosmo/13967/lcqz03okq_x1d.fits.gz /grp/hst/cos2/cosmo/13967/lcqz04hcq_x1d.fits.gz\n",
      "+++ Scaling LP2 to LP1 using data from datasets: /grp/hst/cos2/cosmo/12806/lbxmt1o5q_x1d.fits.gz /grp/hst/cos2/cosmo/12806/lbxm1araq_x1d.fits.gz\n",
      "+++ Scaling LP3 to LP2 using data from datasets: /grp/hst/cos2/cosmo/13967/lcqz03ogq_x1d.fits.gz /grp/hst/cos2/cosmo/13967/lcqz04h8q_x1d.fits.gz\n",
      "+++ Scaling LP3 to LP2 using data from datasets: /grp/hst/cos2/cosmo/13967/lcqz03ogq_x1d.fits.gz /grp/hst/cos2/cosmo/13967/lcqz04h8q_x1d.fits.gz\n",
      "+++ Scaling LP3 to LP2 using data from datasets: /grp/hst/cos2/cosmo/13967/lcqz03ouq_x1d.fits.gz /grp/hst/cos2/cosmo/13967/lcqz04ikq_x1d.fits.gz\n",
      "+++ Scaling LP2 to LP1 using data from datasets: /grp/hst/cos2/cosmo/12806/lbxmt1oeq_x1d.fits.gz /grp/hst/cos2/cosmo/12806/lbxm1bw0q_x1d.fits.gz\n",
      "+++ Scaling LP3 to LP2 using data from datasets: /grp/hst/cos2/cosmo/13967/lcqz03osq_x1d.fits.gz /grp/hst/cos2/cosmo/13967/lcqz04iiq_x1d.fits.gz\n",
      "+++ Scaling LP2 to LP1 using data from datasets: /grp/hst/cos2/cosmo/12806/lbxmt1nxq_x1d.fits.gz /grp/hst/cos2/cosmo/12806/lbxm1bvsq_x1d.fits.gz\n",
      "+++ Scaling LP3 to LP2 using data from datasets: /grp/hst/cos2/cosmo/13967/lcqz03osq_x1d.fits.gz /grp/hst/cos2/cosmo/13967/lcqz04iiq_x1d.fits.gz\n",
      "+++ Scaling LP2 to LP1 using data from datasets: /grp/hst/cos2/cosmo/12806/lbxmt1nxq_x1d.fits.gz /grp/hst/cos2/cosmo/12806/lbxm1bvsq_x1d.fits.gz\n"
     ]
    }
   ],
   "source": [
    "monitor = FUVTDSBase(PIDs='fuvtds_analysis_list.dat')"
   ]
  },
  {
   "cell_type": "code",
   "execution_count": null,
   "metadata": {},
   "outputs": [],
   "source": []
  },
  {
   "cell_type": "code",
   "execution_count": null,
   "metadata": {},
   "outputs": [],
   "source": []
  }
 ],
 "metadata": {
  "kernelspec": {
   "display_name": "hst",
   "language": "python",
   "name": "python3"
  },
  "language_info": {
   "codemirror_mode": {
    "name": "ipython",
    "version": 3
   },
   "file_extension": ".py",
   "mimetype": "text/x-python",
   "name": "python",
   "nbconvert_exporter": "python",
   "pygments_lexer": "ipython3",
   "version": "3.7.12"
  }
 },
 "nbformat": 4,
 "nbformat_minor": 2
}
