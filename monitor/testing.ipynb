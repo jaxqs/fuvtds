{
 "cells": [
  {
   "cell_type": "code",
   "execution_count": 1,
   "metadata": {},
   "outputs": [],
   "source": [
    "from fuvtds_base_class import FUVTDSBase"
   ]
  },
  {
   "cell_type": "code",
   "execution_count": 2,
   "metadata": {},
   "outputs": [
    {
     "data": {
      "application/vnd.jupyter.widget-view+json": {
       "model_id": "160c9772df3441929ebbf0bb3172572d",
       "version_major": 2,
       "version_minor": 0
      },
      "text/plain": [
       "  0%|          | 0/1899 [00:00<?, ?it/s]"
      ]
     },
     "metadata": {},
     "output_type": "display_data"
    },
    {
     "name": "stdout",
     "output_type": "stream",
     "text": [
      "[array('/grp/hst/cos2/cosmo/15535/ldv004u6q_x1d.fits.gz', dtype='<U47'), array('/grp/hst/cos2/cosmo/15535/ldv057z1q_x1d.fits.gz', dtype='<U47'), array('/grp/hst/cos2/cosmo/15535/ldv009axq_x1d.fits.gz', dtype='<U47'), array('/grp/hst/cos2/cosmo/15535/ldv011jtq_x1d.fits.gz', dtype='<U47'), array('/grp/hst/cos2/cosmo/15773/le5g02bzq_x1d.fits.gz', dtype='<U47'), array('/grp/hst/cos2/cosmo/15773/le5g54jtq_x1d.fits.gz', dtype='<U47'), array('/grp/hst/cos2/cosmo/15773/le5g06cjq_x1d.fits.gz', dtype='<U47'), array('/grp/hst/cos2/cosmo/15773/le5g07mvq_x1d.fits.gz', dtype='<U47'), array('/grp/hst/cos2/cosmo/15773/le5g09g9q_x1d.fits.gz', dtype='<U47'), array('/grp/hst/cos2/cosmo/15773/le5g11k6q_x1d.fits.gz', dtype='<U47'), array('/grp/hst/cos2/cosmo/16324/lefe02kjq_x1d.fits.gz', dtype='<U47'), array('/grp/hst/cos2/cosmo/16324/lefe04otq_x1d.fits.gz', dtype='<U47'), array('/grp/hst/cos2/cosmo/16324/lefe06esq_x1d.fits.gz', dtype='<U47'), array('/grp/hst/cos2/cosmo/16324/lefe07lrq_x1d.fits.gz', dtype='<U47'), array('/grp/hst/cos2/cosmo/16324/lefe09guq_x1d.fits.gz', dtype='<U47'), array('/grp/hst/cos2/cosmo/16324/lefe11ccq_x1d.fits.gz', dtype='<U47'), array('/grp/hst/cos2/cosmo/16830/ler102i5q_x1d.fits.gz', dtype='<U47'), array('/grp/hst/cos2/cosmo/16830/ler104sgq_x1d.fits.gz', dtype='<U47'), array('/grp/hst/cos2/cosmo/16830/ler156giq_x1d.fits.gz', dtype='<U47'), array('/grp/hst/cos2/cosmo/16830/ler156gwq_x1d.fits.gz', dtype='<U47'), array('/grp/hst/cos2/cosmo/16830/ler15al8q_x1d.fits.gz', dtype='<U47'), array('/grp/hst/cos2/cosmo/16830/ler15aknq_x1d.fits.gz', dtype='<U47'), array('/grp/hst/cos2/cosmo/16830/ler107adq_x1d.fits.gz', dtype='<U47'), array('/grp/hst/cos2/cosmo/16830/ler109bgq_x1d.fits.gz', dtype='<U47'), array('/grp/hst/cos2/cosmo/16830/ler111hqq_x1d.fits.gz', dtype='<U47'), array('/grp/hst/cos2/cosmo/17249/lf2002doq_x1d.fits.gz', dtype='<U47'), array('/grp/hst/cos2/cosmo/17249/lf201bhpq_x1d.fits.gz', dtype='<U47'), array('/grp/hst/cos2/cosmo/17249/lf201dslq_x1d.fits.gz', dtype='<U47'), array('/grp/hst/cos2/cosmo/17249/lf2004ijq_x1d.fits.gz', dtype='<U47'), array('/grp/hst/cos2/cosmo/17249/lf207bksq_x1d.fits.gz', dtype='<U47'), array('/grp/hst/cos2/cosmo/17251/lf218blnq_x1d.fits.gz', dtype='<U47'), array('/grp/hst/cos2/cosmo/17249/lf2009hoq_x1d.fits.gz', dtype='<U47'), array('/grp/hst/cos2/cosmo/17251/lf2109z2q_x1d.fits.gz', dtype='<U47'), array('/grp/hst/cos2/cosmo/17249/lf2012dxq_x1d.fits.gz', dtype='<U47'), array('/grp/hst/cos2/cosmo/17249/lf2011hzq_x1d.fits.gz', dtype='<U47'), array('/grp/hst/cos2/cosmo/17328/lf4h02c3q_x1d.fits.gz', dtype='<U47'), array('/grp/hst/cos2/cosmo/17326/lf4g02j5q_x1d.fits.gz', dtype='<U47'), array('/grp/hst/cos2/cosmo/17326/lf4g1bsaq_x1d.fits.gz', dtype='<U47'), array('/grp/hst/cos2/cosmo/17328/lf4h04whq_x1d.fits.gz', dtype='<U47'), array('/grp/hst/cos2/cosmo/17326/lf4g04bcq_x1d.fits.gz', dtype='<U47'), array('/grp/hst/cos2/cosmo/17328/lf4h06y1q_x1d.fits.gz', dtype='<U47')]\n",
      "41 41 33\n",
      "41 41 33\n",
      "35 35 33\n",
      "35 35 33\n",
      "154 154 34\n",
      "154 154 34\n",
      "110 110 34\n",
      "110 110 34\n",
      "177 177 33\n",
      "177 177 33\n",
      "131 131 33\n",
      "131 131 33\n",
      "143 143 27\n",
      "143 143 27\n",
      "143 143 27\n",
      "143 143 27\n",
      "120 120 28\n",
      "120 120 28\n",
      "76 76 28\n",
      "76 76 28\n",
      "82 82 26\n",
      "82 82 26\n",
      "82 82 5\n",
      "82 82 5\n",
      "124 124 42\n",
      "124 124 42\n",
      "143 143 35\n",
      "143 143 35\n",
      "143 143 1100\n",
      "143 143 1100\n",
      "37 37 39\n",
      "37 37 39\n",
      "66 66 5\n",
      "66 66 5\n",
      "66 66 1\n",
      "66 66 1\n",
      "66 66 5\n",
      "66 66 5\n"
     ]
    },
    {
     "ename": "KeyboardInterrupt",
     "evalue": "",
     "output_type": "error",
     "traceback": [
      "\u001b[0;31m---------------------------------------------------------------------------\u001b[0m",
      "\u001b[0;31mKeyboardInterrupt\u001b[0m                         Traceback (most recent call last)",
      "\u001b[0;32m/var/folders/3s/kkg0gx0556db40_m3n1tm6mc0005hx/T/ipykernel_66247/993455867.py\u001b[0m in \u001b[0;36m<module>\u001b[0;34m\u001b[0m\n\u001b[0;32m----> 1\u001b[0;31m \u001b[0mmonitor\u001b[0m \u001b[0;34m=\u001b[0m \u001b[0mFUVTDSBase\u001b[0m\u001b[0;34m(\u001b[0m\u001b[0mPIDs\u001b[0m\u001b[0;34m=\u001b[0m\u001b[0;34m'fuvtds_analysis_list.dat'\u001b[0m\u001b[0;34m)\u001b[0m\u001b[0;34m\u001b[0m\u001b[0;34m\u001b[0m\u001b[0m\n\u001b[0m",
      "\u001b[0;32m~/Desktop/fuvtds/monitor/fuvtds_base_class.py\u001b[0m in \u001b[0;36m__init__\u001b[0;34m(self, PIDs, reftime, breakpoints, inventory)\u001b[0m\n\u001b[1;32m     64\u001b[0m         \u001b[0mdata_dictionary\u001b[0m \u001b[0;34m=\u001b[0m \u001b[0mself\u001b[0m\u001b[0;34m.\u001b[0m\u001b[0mget_hduinfo\u001b[0m\u001b[0;34m(\u001b[0m\u001b[0minventory\u001b[0m\u001b[0;34m)\u001b[0m\u001b[0;34m\u001b[0m\u001b[0;34m\u001b[0m\u001b[0m\n\u001b[1;32m     65\u001b[0m         \u001b[0mself\u001b[0m\u001b[0;34m.\u001b[0m\u001b[0msmall_dic\u001b[0m \u001b[0;34m=\u001b[0m \u001b[0mself\u001b[0m\u001b[0;34m.\u001b[0m\u001b[0mbin_data\u001b[0m\u001b[0;34m(\u001b[0m\u001b[0mdata_dictionary\u001b[0m\u001b[0;34m,\u001b[0m \u001b[0;34m'small'\u001b[0m\u001b[0;34m)\u001b[0m\u001b[0;34m\u001b[0m\u001b[0;34m\u001b[0m\u001b[0m\n\u001b[0;32m---> 66\u001b[0;31m         \u001b[0mself\u001b[0m\u001b[0;34m.\u001b[0m\u001b[0mlarge_dic\u001b[0m \u001b[0;34m=\u001b[0m \u001b[0mself\u001b[0m\u001b[0;34m.\u001b[0m\u001b[0mbin_data\u001b[0m\u001b[0;34m(\u001b[0m\u001b[0mdata_dictionary\u001b[0m\u001b[0;34m,\u001b[0m \u001b[0;34m'large'\u001b[0m\u001b[0;34m)\u001b[0m\u001b[0;34m\u001b[0m\u001b[0;34m\u001b[0m\u001b[0m\n\u001b[0m\u001b[1;32m     67\u001b[0m         \u001b[0;31m#self.scale_prep()\u001b[0m\u001b[0;34m\u001b[0m\u001b[0;34m\u001b[0m\u001b[0;34m\u001b[0m\u001b[0m\n\u001b[1;32m     68\u001b[0m \u001b[0;34m\u001b[0m\u001b[0m\n",
      "\u001b[0;32m~/Desktop/fuvtds/monitor/fuvtds_base_class.py\u001b[0m in \u001b[0;36mbin_data\u001b[0;34m(self, data_dic, size)\u001b[0m\n\u001b[1;32m    272\u001b[0m                         \u001b[0mwl\u001b[0m\u001b[0;34m[\u001b[0m\u001b[0mx_index\u001b[0m\u001b[0;34m]\u001b[0m\u001b[0;34m,\u001b[0m\u001b[0;34m\u001b[0m\u001b[0;34m\u001b[0m\u001b[0m\n\u001b[1;32m    273\u001b[0m                         \u001b[0mdata_dic\u001b[0m\u001b[0;34m[\u001b[0m\u001b[0mcenwave\u001b[0m\u001b[0;34m]\u001b[0m\u001b[0;34m[\u001b[0m\u001b[0msegment\u001b[0m\u001b[0;34m]\u001b[0m\u001b[0;34m[\u001b[0m\u001b[0;34m'net'\u001b[0m\u001b[0;34m]\u001b[0m\u001b[0;34m[\u001b[0m\u001b[0mi\u001b[0m\u001b[0;34m]\u001b[0m\u001b[0;34m[\u001b[0m\u001b[0mx_index\u001b[0m\u001b[0;34m]\u001b[0m\u001b[0;34m,\u001b[0m\u001b[0;34m\u001b[0m\u001b[0;34m\u001b[0m\u001b[0m\n\u001b[0;32m--> 274\u001b[0;31m                         \u001b[0mnp\u001b[0m\u001b[0;34m.\u001b[0m\u001b[0mstd\u001b[0m\u001b[0;34m,\u001b[0m \u001b[0mbins\u001b[0m\u001b[0;34m=\u001b[0m\u001b[0mbins\u001b[0m\u001b[0;34m\u001b[0m\u001b[0;34m\u001b[0m\u001b[0m\n\u001b[0m\u001b[1;32m    275\u001b[0m                     )[0]\n\u001b[1;32m    276\u001b[0m \u001b[0;34m\u001b[0m\u001b[0m\n",
      "\u001b[0;32m~/miniconda3/envs/cosmo_env/lib/python3.7/site-packages/scipy/stats/_binned_statistic.py\u001b[0m in \u001b[0;36mbinned_statistic\u001b[0;34m(x, values, statistic, bins, range)\u001b[0m\n\u001b[1;32m    182\u001b[0m \u001b[0;34m\u001b[0m\u001b[0m\n\u001b[1;32m    183\u001b[0m     medians, edges, binnumbers = binned_statistic_dd(\n\u001b[0;32m--> 184\u001b[0;31m         [x], values, statistic, bins, range)\n\u001b[0m\u001b[1;32m    185\u001b[0m \u001b[0;34m\u001b[0m\u001b[0m\n\u001b[1;32m    186\u001b[0m     \u001b[0;32mreturn\u001b[0m \u001b[0mBinnedStatisticResult\u001b[0m\u001b[0;34m(\u001b[0m\u001b[0mmedians\u001b[0m\u001b[0;34m,\u001b[0m \u001b[0medges\u001b[0m\u001b[0;34m[\u001b[0m\u001b[0;36m0\u001b[0m\u001b[0;34m]\u001b[0m\u001b[0;34m,\u001b[0m \u001b[0mbinnumbers\u001b[0m\u001b[0;34m)\u001b[0m\u001b[0;34m\u001b[0m\u001b[0;34m\u001b[0m\u001b[0m\n",
      "\u001b[0;32m~/miniconda3/envs/cosmo_env/lib/python3.7/site-packages/scipy/stats/_binned_statistic.py\u001b[0m in \u001b[0;36mbinned_statistic_dd\u001b[0;34m(sample, values, statistic, bins, range, expand_binnumbers, binned_statistic_result)\u001b[0m\n\u001b[1;32m    615\u001b[0m         \u001b[0mresult\u001b[0m\u001b[0;34m.\u001b[0m\u001b[0mfill\u001b[0m\u001b[0;34m(\u001b[0m\u001b[0mnull\u001b[0m\u001b[0;34m)\u001b[0m\u001b[0;34m\u001b[0m\u001b[0;34m\u001b[0m\u001b[0m\n\u001b[1;32m    616\u001b[0m         _calc_binned_statistic(Vdim, binnumbers, result, values, statistic,\n\u001b[0;32m--> 617\u001b[0;31m                                is_callable=True)\n\u001b[0m\u001b[1;32m    618\u001b[0m \u001b[0;34m\u001b[0m\u001b[0m\n\u001b[1;32m    619\u001b[0m     \u001b[0;31m# Shape into a proper matrix\u001b[0m\u001b[0;34m\u001b[0m\u001b[0;34m\u001b[0m\u001b[0;34m\u001b[0m\u001b[0m\n",
      "\u001b[0;32m~/miniconda3/envs/cosmo_env/lib/python3.7/site-packages/scipy/stats/_binned_statistic.py\u001b[0m in \u001b[0;36m_calc_binned_statistic\u001b[0;34m(Vdim, bin_numbers, result, values, stat_func, is_callable)\u001b[0m\n\u001b[1;32m    649\u001b[0m             if is_callable or not (stat_func is np.std and\n\u001b[1;32m    650\u001b[0m                                    len(bin_map[i]) < 2):\n\u001b[0;32m--> 651\u001b[0;31m                 \u001b[0mresult\u001b[0m\u001b[0;34m[\u001b[0m\u001b[0mvv\u001b[0m\u001b[0;34m,\u001b[0m \u001b[0mi\u001b[0m\u001b[0;34m]\u001b[0m \u001b[0;34m=\u001b[0m \u001b[0mstat_func\u001b[0m\u001b[0;34m(\u001b[0m\u001b[0mnp\u001b[0m\u001b[0;34m.\u001b[0m\u001b[0marray\u001b[0m\u001b[0;34m(\u001b[0m\u001b[0mbin_map\u001b[0m\u001b[0;34m[\u001b[0m\u001b[0mi\u001b[0m\u001b[0;34m]\u001b[0m\u001b[0;34m)\u001b[0m\u001b[0;34m)\u001b[0m\u001b[0;34m\u001b[0m\u001b[0;34m\u001b[0m\u001b[0m\n\u001b[0m\u001b[1;32m    652\u001b[0m \u001b[0;34m\u001b[0m\u001b[0m\n\u001b[1;32m    653\u001b[0m \u001b[0;34m\u001b[0m\u001b[0m\n",
      "\u001b[0;32m<__array_function__ internals>\u001b[0m in \u001b[0;36mstd\u001b[0;34m(*args, **kwargs)\u001b[0m\n",
      "\u001b[0;32m~/miniconda3/envs/cosmo_env/lib/python3.7/site-packages/numpy/core/fromnumeric.py\u001b[0m in \u001b[0;36mstd\u001b[0;34m(a, axis, dtype, out, ddof, keepdims, where)\u001b[0m\n\u001b[1;32m   3580\u001b[0m \u001b[0;34m\u001b[0m\u001b[0m\n\u001b[1;32m   3581\u001b[0m     return _methods._std(a, axis=axis, dtype=dtype, out=out, ddof=ddof,\n\u001b[0;32m-> 3582\u001b[0;31m                          **kwargs)\n\u001b[0m\u001b[1;32m   3583\u001b[0m \u001b[0;34m\u001b[0m\u001b[0m\n\u001b[1;32m   3584\u001b[0m \u001b[0;34m\u001b[0m\u001b[0m\n",
      "\u001b[0;32m~/miniconda3/envs/cosmo_env/lib/python3.7/site-packages/numpy/core/_methods.py\u001b[0m in \u001b[0;36m_std\u001b[0;34m(a, axis, dtype, out, ddof, keepdims, where)\u001b[0m\n\u001b[1;32m    261\u001b[0m          where=True):\n\u001b[1;32m    262\u001b[0m     ret = _var(a, axis=axis, dtype=dtype, out=out, ddof=ddof,\n\u001b[0;32m--> 263\u001b[0;31m                keepdims=keepdims, where=where)\n\u001b[0m\u001b[1;32m    264\u001b[0m \u001b[0;34m\u001b[0m\u001b[0m\n\u001b[1;32m    265\u001b[0m     \u001b[0;32mif\u001b[0m \u001b[0misinstance\u001b[0m\u001b[0;34m(\u001b[0m\u001b[0mret\u001b[0m\u001b[0;34m,\u001b[0m \u001b[0mmu\u001b[0m\u001b[0;34m.\u001b[0m\u001b[0mndarray\u001b[0m\u001b[0;34m)\u001b[0m\u001b[0;34m:\u001b[0m\u001b[0;34m\u001b[0m\u001b[0;34m\u001b[0m\u001b[0m\n",
      "\u001b[0;32m~/miniconda3/envs/cosmo_env/lib/python3.7/site-packages/numpy/core/_methods.py\u001b[0m in \u001b[0;36m_var\u001b[0;34m(a, axis, dtype, out, ddof, keepdims, where)\u001b[0m\n\u001b[1;32m    210\u001b[0m     \u001b[0;31m# Note that if dtype is not of inexact type then arraymean will\u001b[0m\u001b[0;34m\u001b[0m\u001b[0;34m\u001b[0m\u001b[0;34m\u001b[0m\u001b[0m\n\u001b[1;32m    211\u001b[0m     \u001b[0;31m# not be either.\u001b[0m\u001b[0;34m\u001b[0m\u001b[0;34m\u001b[0m\u001b[0;34m\u001b[0m\u001b[0m\n\u001b[0;32m--> 212\u001b[0;31m     \u001b[0marrmean\u001b[0m \u001b[0;34m=\u001b[0m \u001b[0mumr_sum\u001b[0m\u001b[0;34m(\u001b[0m\u001b[0marr\u001b[0m\u001b[0;34m,\u001b[0m \u001b[0maxis\u001b[0m\u001b[0;34m,\u001b[0m \u001b[0mdtype\u001b[0m\u001b[0;34m,\u001b[0m \u001b[0mkeepdims\u001b[0m\u001b[0;34m=\u001b[0m\u001b[0;32mTrue\u001b[0m\u001b[0;34m,\u001b[0m \u001b[0mwhere\u001b[0m\u001b[0;34m=\u001b[0m\u001b[0mwhere\u001b[0m\u001b[0;34m)\u001b[0m\u001b[0;34m\u001b[0m\u001b[0;34m\u001b[0m\u001b[0m\n\u001b[0m\u001b[1;32m    213\u001b[0m     \u001b[0;31m# The shape of rcount has to match arrmean to not change the shape of out\u001b[0m\u001b[0;34m\u001b[0m\u001b[0;34m\u001b[0m\u001b[0;34m\u001b[0m\u001b[0m\n\u001b[1;32m    214\u001b[0m     \u001b[0;31m# in broadcasting. Otherwise, it cannot be stored back to arrmean.\u001b[0m\u001b[0;34m\u001b[0m\u001b[0;34m\u001b[0m\u001b[0;34m\u001b[0m\u001b[0m\n",
      "\u001b[0;31mKeyboardInterrupt\u001b[0m: "
     ]
    }
   ],
   "source": [
    "monitor = FUVTDSBase(PIDs='fuvtds_analysis_list.dat')"
   ]
  },
  {
   "cell_type": "code",
   "execution_count": null,
   "metadata": {},
   "outputs": [
    {
     "name": "stdout",
     "output_type": "stream",
     "text": [
      "[0, 1, 2, 3, 4]\n"
     ]
    }
   ],
   "source": [
    "ls = [0,1,2,3,4]\n",
    "a = {\n",
    "    'a': ls\n",
    "}\n",
    "\n",
    "print(a['a'])"
   ]
  },
  {
   "cell_type": "code",
   "execution_count": null,
   "metadata": {},
   "outputs": [
    {
     "name": "stdout",
     "output_type": "stream",
     "text": [
      "[0, 1, 2, 3, 7]\n"
     ]
    }
   ],
   "source": [
    "a['a'][4] = 7\n",
    "print(a['a'])"
   ]
  },
  {
   "cell_type": "code",
   "execution_count": null,
   "metadata": {},
   "outputs": [
    {
     "name": "stdout",
     "output_type": "stream",
     "text": [
      "[0, 1, 2, 3, 7]\n"
     ]
    }
   ],
   "source": [
    "print(ls)"
   ]
  },
  {
   "cell_type": "code",
   "execution_count": null,
   "metadata": {},
   "outputs": [],
   "source": [
    "file = '/user/jhernandez/nuvtds_2024/scientific_testing/data/old/17395/lf4v01xhq_x1d.fits'"
   ]
  },
  {
   "cell_type": "code",
   "execution_count": null,
   "metadata": {},
   "outputs": [],
   "source": [
    "from astropy.io import fits"
   ]
  },
  {
   "cell_type": "code",
   "execution_count": null,
   "metadata": {},
   "outputs": [],
   "source": [
    "data = fits.getdata(file, 1)"
   ]
  },
  {
   "cell_type": "code",
   "execution_count": null,
   "metadata": {},
   "outputs": [
    {
     "name": "stdout",
     "output_type": "stream",
     "text": [
      "NUVA\n",
      "NUVB\n",
      "NUVC\n"
     ]
    }
   ],
   "source": [
    "for segment in data['SEGMENT']:\n",
    "    print(segment)"
   ]
  },
  {
   "cell_type": "code",
   "execution_count": null,
   "metadata": {},
   "outputs": [],
   "source": []
  }
 ],
 "metadata": {
  "kernelspec": {
   "display_name": "hst",
   "language": "python",
   "name": "python3"
  },
  "language_info": {
   "codemirror_mode": {
    "name": "ipython",
    "version": 3
   },
   "file_extension": ".py",
   "mimetype": "text/x-python",
   "name": "python",
   "nbconvert_exporter": "python",
   "pygments_lexer": "ipython3",
   "version": "3.7.12"
  }
 },
 "nbformat": 4,
 "nbformat_minor": 2
}
